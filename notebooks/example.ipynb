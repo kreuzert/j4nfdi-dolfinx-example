{
 "cells": [
  {
   "cell_type": "code",
   "execution_count": 1,
   "id": "7be32789-ff9e-408b-895e-36a0b7d8f004",
   "metadata": {},
   "outputs": [
    {
     "name": "stdout",
     "output_type": "stream",
     "text": [
      "Hello World!\n"
     ]
    }
   ],
   "source": [
    "print(\"Hello World!\")"
   ]
  },
  {
   "cell_type": "code",
   "execution_count": 2,
   "id": "29704ab7-6ca8-473d-a582-5ee0ea64efe7",
   "metadata": {},
   "outputs": [
    {
     "name": "stderr",
     "output_type": "stream",
     "text": [
      "/opt/conda/envs/fenicsx-env/lib/python3.10/site-packages/ufl/__init__.py:244: UserWarning: pkg_resources is deprecated as an API. See https://setuptools.pypa.io/en/latest/pkg_resources.html. The pkg_resources package is slated for removal as early as 2025-11-30. Refrain from using this package or pin to Setuptools<81.\n",
      "  import pkg_resources\n"
     ]
    }
   ],
   "source": [
    "import dolfinx"
   ]
  },
  {
   "cell_type": "code",
   "execution_count": 3,
   "id": "7ddcff7b-70a1-409a-ae41-66864c5bcbf1",
   "metadata": {},
   "outputs": [
    {
     "name": "stdout",
     "output_type": "stream",
     "text": [
      "/opt/conda/envs/fenicsx-env/lib/python3.10/site-packages/dolfinx/__init__.py\n"
     ]
    }
   ],
   "source": [
    "print(dolfinx.__file__)"
   ]
  },
  {
   "cell_type": "code",
   "execution_count": null,
   "id": "a1c2752c-0954-466a-8bc7-a2fc802a48eb",
   "metadata": {},
   "outputs": [],
   "source": []
  }
 ],
 "metadata": {
  "kernelspec": {
   "display_name": "Python (fenicsx-env)",
   "language": "python",
   "name": "fenicsx-env"
  },
  "language_info": {
   "codemirror_mode": {
    "name": "ipython",
    "version": 3
   },
   "file_extension": ".py",
   "mimetype": "text/x-python",
   "name": "python",
   "nbconvert_exporter": "python",
   "pygments_lexer": "ipython3",
   "version": "3.10.14"
  }
 },
 "nbformat": 4,
 "nbformat_minor": 5
}

